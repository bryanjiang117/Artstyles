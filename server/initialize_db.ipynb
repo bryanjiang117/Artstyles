{
 "cells": [
  {
   "cell_type": "code",
   "execution_count": 3,
   "id": "382960c1",
   "metadata": {},
   "outputs": [],
   "source": [
    "import psycopg\n",
    "import os\n",
    "from dotenv import load_dotenv\n",
    "\n",
    "load_dotenv()\n",
    "\n",
    "connection = psycopg.connect(os.getenv(\"DATABASE_URL\"), autocommit=True)\n",
    "cursor = connection.cursor()\n",
    "\n",
    "cursor.execute(\n",
    "    \"\"\"\n",
    "    DROP TABLE artworks;\n",
    "\n",
    "\tCREATE TABLE artworks (\n",
    "\t\tid SERIAL PRIMARY KEY,\n",
    "        permalink TEXT UNIQUE,\n",
    "        preview_url TEXT\n",
    "\t);\n",
    "\"\"\"\n",
    ")\n",
    "\n",
    "cursor.close()\n",
    "connection.close()"
   ]
  }
 ],
 "metadata": {
  "kernelspec": {
   "display_name": ".venv",
   "language": "python",
   "name": "python3"
  },
  "language_info": {
   "codemirror_mode": {
    "name": "ipython",
    "version": 3
   },
   "file_extension": ".py",
   "mimetype": "text/x-python",
   "name": "python",
   "nbconvert_exporter": "python",
   "pygments_lexer": "ipython3",
   "version": "3.13.3"
  }
 },
 "nbformat": 4,
 "nbformat_minor": 5
}
