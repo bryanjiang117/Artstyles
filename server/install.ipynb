{
 "cells": [
  {
   "cell_type": "code",
   "execution_count": 2,
   "id": "6311f05d",
   "metadata": {},
   "outputs": [
    {
     "name": "stdout",
     "output_type": "stream",
     "text": [
      "Collecting psycopg[binary]\n",
      "  Using cached psycopg-3.2.7-py3-none-any.whl.metadata (4.5 kB)\n",
      "Collecting psycopg-binary==3.2.7 (from psycopg[binary])\n",
      "  Using cached psycopg_binary-3.2.7-cp313-cp313-macosx_11_0_arm64.whl.metadata (2.9 kB)\n",
      "Using cached psycopg-3.2.7-py3-none-any.whl (200 kB)\n",
      "Using cached psycopg_binary-3.2.7-cp313-cp313-macosx_11_0_arm64.whl (3.9 MB)\n",
      "Installing collected packages: psycopg-binary, psycopg\n",
      "\u001b[2K   \u001b[90m━━━━━━━━━━━━━━━━━━━━━━━━━━━━━━━━━━━━━━━━\u001b[0m \u001b[32m2/2\u001b[0m [psycopg]\n",
      "\u001b[1A\u001b[2KSuccessfully installed psycopg-3.2.7 psycopg-binary-3.2.7\n"
     ]
    }
   ],
   "source": [
    "!{sys.executable} -m pip install 'psycopg[binary]'"
   ]
  }
 ],
 "metadata": {
  "kernelspec": {
   "display_name": ".venv",
   "language": "python",
   "name": "python3"
  },
  "language_info": {
   "codemirror_mode": {
    "name": "ipython",
    "version": 3
   },
   "file_extension": ".py",
   "mimetype": "text/x-python",
   "name": "python",
   "nbconvert_exporter": "python",
   "pygments_lexer": "ipython3",
   "version": "3.13.3"
  }
 },
 "nbformat": 4,
 "nbformat_minor": 5
}
